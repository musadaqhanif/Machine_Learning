{
 "cells": [
  {
   "cell_type": "code",
   "execution_count": 5,
   "id": "9e918731",
   "metadata": {},
   "outputs": [],
   "source": [
    "import PyPDF2\n",
    "import re\n",
    "import os\n",
    "import pandas as pd\n",
    "import os\n"
   ]
  },
  {
   "cell_type": "code",
   "execution_count": 3,
   "id": "586057f6",
   "metadata": {},
   "outputs": [
    {
     "name": "stdout",
     "output_type": "stream",
     "text": [
      "C:\\Users\\Dell\\Desktop\\Panda\n"
     ]
    }
   ],
   "source": [
    "print(os.getcwd())\n"
   ]
  },
  {
   "cell_type": "code",
   "execution_count": 6,
   "id": "d8a2d3ae",
   "metadata": {},
   "outputs": [],
   "source": [
    "def extract_information_from_pdf(pdf_file_path):\n",
    "    # Initialize the data dictionary to store extracted information\n",
    "    data = {\n",
    "        \"Document title\": \"nan\",\n",
    "        \"Version number\": \"nan\",\n",
    "        \"Reference/Register number\": \"nan\",\n",
    "        \"Document Type\": \"nan\",\n",
    "        \"Issue Date\": \"nan\",\n",
    "        \"Review Date\": \"nan\",\n",
    "        \"Author\": \"nan\"\n",
    "    }\n",
    "    # Read the PDF file\n",
    "    with open(pdf_file_path, 'rb') as file:\n",
    "        reader = PyPDF2.PdfFileReader(file)\n",
    "        text = \"\"\n",
    "        for page_num in range(reader.numPages):\n",
    "            text += reader.getPage(page_num).extract_text()\n",
    "\n",
    "        # Extract information using regular expressions\n",
    "        data[\"Document title\"] = re.search(r\"Document Title:\\s*(.*)\", text, re.IGNORECASE)\n",
    "        data[\"Version number\"] = re.search(r\"Version Number:\\s*(.*)\", text, re.IGNORECASE)\n",
    "        data[\"Reference/Register number\"] = re.search(r\"Reference/Register Number:\\s*(.*)\", text, re.IGNORECASE)\n",
    "        data[\"Document Type\"] = re.search(r\"Document Type:\\s*(.*)\", text, re.IGNORECASE)\n",
    "        data[\"Issue Date\"] = re.search(r\"Issue Date:\\s*(.*)\", text, re.IGNORECASE)\n",
    "        data[\"Review Date\"] = re.search(r\"Review Date:\\s*(.*)\", text, re.IGNORECASE)\n",
    "        data[\"Author\"] = re.search(r\"Author:\\s*(.*)\", text, re.IGNORECASE)\n",
    "\n",
    "    # Convert the matched regex objects to strings\n",
    "    for key in data:\n",
    "        if data[key] is not None:\n",
    "            data[key] = data[key].group(1).strip()\n",
    "        else:\n",
    "            data[key] = \"nan\"\n",
    "\n",
    "    return data\n",
    "\n",
    "def process_pdf_files(directory):\n",
    "    # Get a list of all PDF files in the given directory\n",
    "    pdf_files = [file for file in os.listdir(directory) if file.endswith(\".pdf\")]\n",
    "\n",
    "    # Initialize a list to store all extracted data\n",
    "    all_data = []\n",
    "\n",
    "    # Process each PDF file\n",
    "    for pdf_file in pdf_files:\n",
    "        pdf_file_path = os.path.join(directory, pdf_file)\n",
    "        data = extract_information_from_pdf(pdf_file_path)\n",
    "        all_data.append(data)\n",
    "\n",
    "    return all_data\n",
    "\n",
    "def save_to_csv(data, output_csv_file):\n",
    "    df = pd.DataFrame(data)\n",
    "    df.to_csv(output_csv_file, index=False)\n",
    "\n",
    "if __name__ == \"__main__\":\n",
    "    # Replace 'pdf_directory' with the path to the directory containing the PDF files\n",
    "    pdf_directory = r\"C:\\Users\\Dell\\Desktop\\Panda\"\n",
    "\n",
    "    # Replace 'output_file.csv' with the desired CSV filename\n",
    "    output_csv_file = \"output-2.csv\"\n",
    "\n",
    "    all_data = process_pdf_files(pdf_directory)\n",
    "    save_to_csv(all_data, output_csv_file)"
   ]
  },
  {
   "cell_type": "code",
   "execution_count": 4,
   "id": "e2fb0d1c",
   "metadata": {},
   "outputs": [
    {
     "ename": "NameError",
     "evalue": "name 'os' is not defined",
     "output_type": "error",
     "traceback": [
      "\u001b[1;31m---------------------------------------------------------------------------\u001b[0m",
      "\u001b[1;31mNameError\u001b[0m                                 Traceback (most recent call last)",
      "Cell \u001b[1;32mIn[4], line 65\u001b[0m\n\u001b[0;32m     62\u001b[0m \u001b[38;5;66;03m# Replace 'output_file.csv' with the desired CSV filename\u001b[39;00m\n\u001b[0;32m     63\u001b[0m output_csv_file \u001b[38;5;241m=\u001b[39m \u001b[38;5;124m\"\u001b[39m\u001b[38;5;124moutput-f1.csv\u001b[39m\u001b[38;5;124m\"\u001b[39m\n\u001b[1;32m---> 65\u001b[0m all_data \u001b[38;5;241m=\u001b[39m process_pdf_files(pdf_directory)\n\u001b[0;32m     66\u001b[0m save_to_csv(all_data, output_csv_file)\n",
      "Cell \u001b[1;32mIn[4], line 41\u001b[0m, in \u001b[0;36mprocess_pdf_files\u001b[1;34m(directory)\u001b[0m\n\u001b[0;32m     39\u001b[0m \u001b[38;5;28;01mdef\u001b[39;00m \u001b[38;5;21mprocess_pdf_files\u001b[39m(directory):\n\u001b[0;32m     40\u001b[0m     \u001b[38;5;66;03m# Get a list of all PDF files in the given directory\u001b[39;00m\n\u001b[1;32m---> 41\u001b[0m     pdf_files \u001b[38;5;241m=\u001b[39m [file \u001b[38;5;28;01mfor\u001b[39;00m file \u001b[38;5;129;01min\u001b[39;00m os\u001b[38;5;241m.\u001b[39mlistdir(directory) \u001b[38;5;28;01mif\u001b[39;00m file\u001b[38;5;241m.\u001b[39mendswith(\u001b[38;5;124m\"\u001b[39m\u001b[38;5;124m.pdf\u001b[39m\u001b[38;5;124m\"\u001b[39m)]\n\u001b[0;32m     43\u001b[0m     \u001b[38;5;66;03m# Initialize a list to store all extracted data\u001b[39;00m\n\u001b[0;32m     44\u001b[0m     all_data \u001b[38;5;241m=\u001b[39m []\n",
      "\u001b[1;31mNameError\u001b[0m: name 'os' is not defined"
     ]
    }
   ],
   "source": [
    "def extract_information_from_pdf(pdf_file_path):\n",
    "    # Initialize the data dictionary to store extracted information\n",
    "    data = {\n",
    "        \"Document title\": \"nan\",\n",
    "        \"Version number\": \"nan\",\n",
    "        \"Reference/Register number\": \"nan\",\n",
    "        \"Document Type\": \"nan\",\n",
    "        \"Issue Date\": \"nan\",\n",
    "        \"Review Date\": \"nan\",\n",
    "        \"Author\": \"nan\"\n",
    "    }\n",
    "\n",
    "    # Read the PDF file\n",
    "    with open(pdf_file_path, 'rb') as file:\n",
    "        reader = PyPDF2.PdfFileReader(file)\n",
    "        text = \"\"\n",
    "        for page_num in range(reader.numPages):\n",
    "            text += reader.getPage(page_num).extract_text()\n",
    "\n",
    "        # Extract information using regular expressions\n",
    "        data[\"Document title\"] = re.search(r\"Title:\\s*(.*)\", text, re.IGNORECASE)\n",
    "        data[\"Version number\"] = re.search(r\"Version No:\\s*(.*)\", text, re.IGNORECASE)\n",
    "        data[\"Reference/Register number\"] = re.search(r\"Reference/Register No:\\s*(.*)\", text, re.IGNORECASE)\n",
    "        data[\"Document Type\"] = re.search(r\"Document Type:\\s*(.*)\", text, re.IGNORECASE)\n",
    "        data[\"Issue Date\"] = re.search(r\"Issue Date:\\s*(.*)\", text, re.IGNORECASE)\n",
    "        data[\"Review Date\"] = re.search(r\"Review Date:\\s*(.*)\", text, re.IGNORECASE)\n",
    "        data[\"Author\"] = re.search(r\"Author:\\s*(.*)\", text, re.IGNORECASE)\n",
    "\n",
    "    # Convert the matched regex objects to strings\n",
    "    for key in data:\n",
    "        if data[key] is not None:\n",
    "            data[key] = data[key].group(1).strip()\n",
    "        else:\n",
    "            data[key] = \"nan\"\n",
    "\n",
    "    return data\n",
    "\n",
    "\n",
    "def process_pdf_files(directory):\n",
    "    # Get a list of all PDF files in the given directory\n",
    "    pdf_files = [file for file in os.listdir(directory) if file.endswith(\".pdf\")]\n",
    "\n",
    "    # Initialize a list to store all extracted data\n",
    "    all_data = []\n",
    "\n",
    "    # Process each PDF file\n",
    "    for pdf_file in pdf_files:\n",
    "        pdf_file_path = os.path.join(directory, pdf_file)\n",
    "        data = extract_information_from_pdf(pdf_file_path)\n",
    "        all_data.append(data)\n",
    "\n",
    "    return all_data\n",
    "\n",
    "def save_to_csv(data, output_csv_file):\n",
    "    df = pd.DataFrame(data)\n",
    "    df.to_csv(output_csv_file, index=False)\n",
    "\n",
    "if __name__ == \"__main__\":\n",
    "    # Replace 'pdf_directory' with the path to the directory containing the PDF files\n",
    "    pdf_directory = z\n",
    "\n",
    "    # Replace 'output_file.csv' with the desired CSV filename\n",
    "    output_csv_file = \"output-f1.csv\"\n",
    "\n",
    "    all_data = process_pdf_files(pdf_directory)\n",
    "    save_to_csv(all_data, output_csv_file)\n"
   ]
  },
  {
   "cell_type": "code",
   "execution_count": null,
   "id": "d8cc4906",
   "metadata": {},
   "outputs": [],
   "source": []
  },
  {
   "cell_type": "code",
   "execution_count": 3,
   "id": "22ac1d22",
   "metadata": {},
   "outputs": [
    {
     "ename": "SyntaxError",
     "evalue": "incomplete input (2875414857.py, line 27)",
     "output_type": "error",
     "traceback": [
      "\u001b[1;36m  Cell \u001b[1;32mIn[3], line 27\u001b[1;36m\u001b[0m\n\u001b[1;33m    # Open the CSV file.\u001b[0m\n\u001b[1;37m                         ^\u001b[0m\n\u001b[1;31mSyntaxError\u001b[0m\u001b[1;31m:\u001b[0m incomplete input\n"
     ]
    }
   ],
   "source": [
    "import PyPDF2\n",
    "import csv\n",
    "def extract_info(pdf_file):\n",
    "   # Open the PDF file.\n",
    "  with open(r\"C:\\Users\\Dell\\Desktop\\Panda\\04184 Manual of blood transfusion policy & procedures 6.6.pdf\",\"rb\") as f:\n",
    "    pdf = pypdf2.PdfFileReader(f)\n",
    "\n",
    "  # Get the book's title.\n",
    "  title = pdf.getDocumentInfo().title\n",
    "\n",
    "  # Get the book's author.\n",
    "  author = pdf.getDocumentInfo().author\n",
    "\n",
    "  # Get the book's publication date.\n",
    "  publication_date = pdf.getDocumentInfo().creation_date\n",
    "\n",
    "  # Return the book's information.\n",
    "  return {\n",
    "      \"title\": title,\n",
    "      \"author\": author,\n",
    "      \"publication_date\": publication_date,\n",
    "  }\n",
    "\n",
    "\n",
    "def store_info(info, csv_file):\n",
    "\n",
    "  # Open the CSV file. "
   ]
  },
  {
   "cell_type": "code",
   "execution_count": 31,
   "id": "d76dd078",
   "metadata": {},
   "outputs": [
    {
     "name": "stdout",
     "output_type": "stream",
     "text": [
      "Enter the path to the PDF file: C:\\Users\\Dell\\Desktop\\Panda\\04184 Manual of blood transfusion policy & procedures 6.6.pdf\n"
     ]
    },
    {
     "ename": "NameError",
     "evalue": "name 'pypdf2' is not defined",
     "output_type": "error",
     "traceback": [
      "\u001b[1;31m---------------------------------------------------------------------------\u001b[0m",
      "\u001b[1;31mNameError\u001b[0m                                 Traceback (most recent call last)",
      "Cell \u001b[1;32mIn[31], line 61\u001b[0m\n\u001b[0;32m     58\u001b[0m   store_info(info, \u001b[38;5;124m\"\u001b[39m\u001b[38;5;124mbooks.csv\u001b[39m\u001b[38;5;124m\"\u001b[39m)\n\u001b[0;32m     60\u001b[0m \u001b[38;5;28;01mif\u001b[39;00m \u001b[38;5;18m__name__\u001b[39m \u001b[38;5;241m==\u001b[39m \u001b[38;5;124m\"\u001b[39m\u001b[38;5;124m__main__\u001b[39m\u001b[38;5;124m\"\u001b[39m:\n\u001b[1;32m---> 61\u001b[0m   main()\n",
      "Cell \u001b[1;32mIn[31], line 55\u001b[0m, in \u001b[0;36mmain\u001b[1;34m()\u001b[0m\n\u001b[0;32m     52\u001b[0m pdf_file \u001b[38;5;241m=\u001b[39m \u001b[38;5;28minput\u001b[39m(\u001b[38;5;124m\"\u001b[39m\u001b[38;5;124mEnter the path to the PDF file: \u001b[39m\u001b[38;5;124m\"\u001b[39m)\n\u001b[0;32m     54\u001b[0m \u001b[38;5;66;03m# Extract the book's information.\u001b[39;00m\n\u001b[1;32m---> 55\u001b[0m info \u001b[38;5;241m=\u001b[39m extract_info(pdf_file)\n\u001b[0;32m     57\u001b[0m \u001b[38;5;66;03m# Store the book's information in a CSV file.\u001b[39;00m\n\u001b[0;32m     58\u001b[0m store_info(info, \u001b[38;5;124m\"\u001b[39m\u001b[38;5;124mbooks.csv\u001b[39m\u001b[38;5;124m\"\u001b[39m)\n",
      "Cell \u001b[1;32mIn[31], line 16\u001b[0m, in \u001b[0;36mextract_info\u001b[1;34m(pdf_file)\u001b[0m\n\u001b[0;32m     14\u001b[0m \u001b[38;5;66;03m# Open the PDF file.\u001b[39;00m\n\u001b[0;32m     15\u001b[0m \u001b[38;5;28;01mwith\u001b[39;00m \u001b[38;5;28mopen\u001b[39m(\u001b[38;5;124mr\u001b[39m\u001b[38;5;124m\"\u001b[39m\u001b[38;5;124mC:\u001b[39m\u001b[38;5;124m\\\u001b[39m\u001b[38;5;124mUsers\u001b[39m\u001b[38;5;124m\\\u001b[39m\u001b[38;5;124mDell\u001b[39m\u001b[38;5;124m\\\u001b[39m\u001b[38;5;124mDesktop\u001b[39m\u001b[38;5;124m\\\u001b[39m\u001b[38;5;124mPanda\u001b[39m\u001b[38;5;124m\\\u001b[39m\u001b[38;5;124m04184 Manual of blood transfusion policy & procedures 6.6.pdf\u001b[39m\u001b[38;5;124m\"\u001b[39m) \u001b[38;5;28;01mas\u001b[39;00m f:\n\u001b[1;32m---> 16\u001b[0m   pdf \u001b[38;5;241m=\u001b[39m pypdf2\u001b[38;5;241m.\u001b[39mPdfFileReader(f)\n\u001b[0;32m     18\u001b[0m \u001b[38;5;66;03m# Get the book's title.\u001b[39;00m\n\u001b[0;32m     19\u001b[0m title \u001b[38;5;241m=\u001b[39m pdf\u001b[38;5;241m.\u001b[39mgetDocumentInfo()\u001b[38;5;241m.\u001b[39mtitle\n",
      "\u001b[1;31mNameError\u001b[0m: name 'pypdf2' is not defined"
     ]
    }
   ],
   "source": [
    "import PyPDF2\n",
    "import csv\n",
    "\n",
    "def extract_info(pdf_file):\n",
    "  \"\"\"Extracts information about a book from a PDF file.\n",
    "\n",
    "  Args:\n",
    "    pdf_file: The path to the PDF file.\n",
    "\n",
    "  Returns:\n",
    "    A dictionary containing the book's title, author, and publication date.\n",
    "  \"\"\"\n",
    "\n",
    "  # Open the PDF file.\n",
    "  with open(r\"C:\\Users\\Dell\\Desktop\\Panda\\04184 Manual of blood transfusion policy & procedures 6.6.pdf\") as f:\n",
    "    pdf = pypdf2.PdfFileReader(f)\n",
    "\n",
    "  # Get the book's title.\n",
    "  title = pdf.getDocumentInfo().title\n",
    "\n",
    "  # Get the book's author.\n",
    "  author = pdf.getDocumentInfo().author\n",
    "\n",
    "  # Get the book's publication date.\n",
    "  publication_date = pdf.getDocumentInfo().creation_date\n",
    "\n",
    "  # Return the book's information.\n",
    "  return {\n",
    "      \"title\": title,\n",
    "      \"author\": author,\n",
    "      \"publication_date\": publication_date,\n",
    "  }\n",
    "\n",
    "def store_info(info, csv_file):\n",
    "  \"\"\"Stores the book's information in a CSV file.\n",
    "\n",
    "  Args:\n",
    "    info: A dictionary containing the book's title, author, and publication date.\n",
    "    csv_file: The path to the CSV file.\n",
    "  \"\"\"\n",
    "\n",
    "  # Open the CSV file.\n",
    "  with open(csv_file, \"w\") as f:\n",
    "    writer = csv.writer(f)\n",
    "\n",
    "    # Write the book's information to the CSV file.\n",
    "    writer.writerow([\"Title\", \"Author\", \"Publication Date\"])\n",
    "    writer.writerow([info[\"title\"], info[\"author\"], info[\"publication_date\"]])\n",
    "\n",
    "def main():\n",
    "  # Get the path to the PDF file.\n",
    "  pdf_file = input(\"Enter the path to the PDF file: \")\n",
    "\n",
    "  # Extract the book's information.\n",
    "  info = extract_info(pdf_file)\n",
    "\n",
    "  # Store the book's information in a CSV file.\n",
    "  store_info(info, \"books.csv\")\n",
    "\n",
    "if __name__ == \"__main__\":\n",
    "  main()"
   ]
  },
  {
   "cell_type": "code",
   "execution_count": 2,
   "id": "538709df",
   "metadata": {},
   "outputs": [
    {
     "ename": "AttributeError",
     "evalue": "'DocumentInformation' object has no attribute 'creation_Date'",
     "output_type": "error",
     "traceback": [
      "\u001b[1;31m---------------------------------------------------------------------------\u001b[0m",
      "\u001b[1;31mAttributeError\u001b[0m                            Traceback (most recent call last)",
      "Cell \u001b[1;32mIn[2], line 4\u001b[0m\n\u001b[0;32m      2\u001b[0m \u001b[38;5;28;01mwith\u001b[39;00m \u001b[38;5;28mopen\u001b[39m(\u001b[38;5;124mr\u001b[39m\u001b[38;5;124m\"\u001b[39m\u001b[38;5;124mC:\u001b[39m\u001b[38;5;124m\\\u001b[39m\u001b[38;5;124mUsers\u001b[39m\u001b[38;5;124m\\\u001b[39m\u001b[38;5;124mDell\u001b[39m\u001b[38;5;124m\\\u001b[39m\u001b[38;5;124mDesktop\u001b[39m\u001b[38;5;124m\\\u001b[39m\u001b[38;5;124mPanda\u001b[39m\u001b[38;5;124m\\\u001b[39m\u001b[38;5;124m04184 Manual of blood transfusion policy & procedures 6.6.pdf\u001b[39m\u001b[38;5;124m\"\u001b[39m,\u001b[38;5;124m\"\u001b[39m\u001b[38;5;124mrb\u001b[39m\u001b[38;5;124m\"\u001b[39m) \u001b[38;5;28;01mas\u001b[39;00m f:\n\u001b[0;32m      3\u001b[0m     pdf \u001b[38;5;241m=\u001b[39m PyPDF2\u001b[38;5;241m.\u001b[39mPdfFileReader(f)\n\u001b[1;32m----> 4\u001b[0m     x\u001b[38;5;241m=\u001b[39mpdf\u001b[38;5;241m.\u001b[39mgetDocumentInfo()\u001b[38;5;241m.\u001b[39mcreation_Date\n\u001b[0;32m      5\u001b[0m     \u001b[38;5;28mprint\u001b[39m(x)\n",
      "\u001b[1;31mAttributeError\u001b[0m: 'DocumentInformation' object has no attribute 'creation_Date'"
     ]
    }
   ],
   "source": [
    "import PyPDF2\n",
    "with open(r\"C:\\Users\\Dell\\Desktop\\Panda\\04184 Manual of blood transfusion policy & procedures 6.6.pdf\",\"rb\") as f:\n",
    "    pdf = PyPDF2.PdfFileReader(f)\n",
    "    x=pdf.getDocumentInfo().creation_Date\n",
    "    print(x)"
   ]
  }
 ],
 "metadata": {
  "kernelspec": {
   "display_name": "Python 3 (ipykernel)",
   "language": "python",
   "name": "python3"
  },
  "language_info": {
   "codemirror_mode": {
    "name": "ipython",
    "version": 3
   },
   "file_extension": ".py",
   "mimetype": "text/x-python",
   "name": "python",
   "nbconvert_exporter": "python",
   "pygments_lexer": "ipython3",
   "version": "3.11.3"
  }
 },
 "nbformat": 4,
 "nbformat_minor": 5
}
