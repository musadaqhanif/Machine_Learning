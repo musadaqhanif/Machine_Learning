{
 "cells": [
  {
   "cell_type": "code",
   "execution_count": 1,
   "id": "4e65b6a3",
   "metadata": {},
   "outputs": [
    {
     "name": "stdout",
     "output_type": "stream",
     "text": [
      "['Natural', 'Language', 'Processing', 'is', 'awesome', '!']\n"
     ]
    },
    {
     "name": "stderr",
     "output_type": "stream",
     "text": [
      "[nltk_data] Downloading package punkt to\n",
      "[nltk_data]     C:\\Users\\Dell\\AppData\\Roaming\\nltk_data...\n",
      "[nltk_data]   Package punkt is already up-to-date!\n"
     ]
    }
   ],
   "source": [
    "import nltk\n",
    "nltk.download('punkt')\n",
    "from nltk.tokenize import word_tokenize\n",
    "\n",
    "text = \"Natural Language Processing is awesome!\"\n",
    "tokens = word_tokenize(text)\n",
    "print(tokens)\n"
   ]
  },
  {
   "cell_type": "code",
   "execution_count": 2,
   "id": "d200b23b",
   "metadata": {},
   "outputs": [],
   "source": [
    "import pandas as pd\n",
    "data={\n",
    "    \"info\":[\"i love pakistan\",\"I Love corruptio\"],\n",
    "    \"sentiment\":[\"positive\",\"Negative\"]\n",
    "}\n",
    "df=pd.DataFrame(data)\n",
    "df.to_csv(\"Sentiment Analysis.csv\",index=False)"
   ]
  },
  {
   "cell_type": "code",
   "execution_count": 16,
   "id": "69dfc75e",
   "metadata": {},
   "outputs": [
    {
     "name": "stdout",
     "output_type": "stream",
     "text": [
      "page 1 :  \n",
      "Page 1 of 6 \n",
      " \n",
      " \n",
      "     \n",
      "Southend Hospital Guidelines for the Assessment and Treatment of Patient with Acute Hot Joint \n",
      "         Reference:  CG013 Category:  Clinical guideline Version: 4 Date approved 01/01/2018 Review date  31/01/2021 \n",
      "Approved  by:  Dr Dasgupta & Dr Wong/ Mr Packer / \n",
      " Rheumatology group Written by:   Dr Fiona Hayes / Mr Simond Jagernauth / Dr Frances Borg  \n",
      "Target audience: All Clinical Staff  \n",
      "Details of changes:  Policy reviewed there has been no new guidance issued so there will not need to be any changes\n",
      " \n",
      " \n",
      "This is an uncontrolled copy of this policy. To check if this is a copy of the latest version please view this policy on-line on StaffNet  \n",
      "page 2 : Southend University Hospital NHS Foundation Trust Guidelines for the Assessment and Treatment of Patient with Acute Hot Joint / CG013 / v4 \n",
      "Page 2 of 6  OBJECTIVES: To ensure rapid treatment of septic arthritis and so reduce acute mortality/morbidity and prevent long-term damage to the joint.   REASONS FOR DEVELOPING THESE GUIDELINES: Septic arthritis is a medical emergency.  Mortality rate is 10-20% and long-term joint damage is seen in 30-50% of cases. Immediate treatment is generally associated with little or no joint damage.   CONTEXT: Septic arthritis can occur at any age and without obvious preceding illness or trauma.  Polyarticular sepsis is more common in people who are immunosuppressed, have preceding joint disease, or a source of septic emboli eg endocarditis. Immunosuppressed or partially treated patients may not look as unwell as might be expected.   The most common presentation is with a single hot red restricted and painful joint, usually with effusion.  The patient is usually febrile and looks ill.   INCLUSION CRITERIA: These guidelines apply to all adults with suspected septic arthritis.   EXCLUSION CRITERIA: Patients under 16.  Known haemophilia sufferers.  Acute trauma.   POTENTIAL RISKS: The risk of aspirating a previously uninfected joint and introducing infection is estimated at between 1 in 17 000 and 1 in 50 000. The potential benefits outweigh the risks in nearly all cases.   KEY ELEMENTS:   1. Aspirate the joint; send aspirate for white cell count, urgent Gram stain culture, and crystals.  If not trained in aspiration, call orthopaedic surgeon.  Alert microbiology technician via switchboard  2. Send blood cultures   3. Start antibiotics   4. If patient is septic, consider early washout for source control  5. Consider rheumatology opinion.   For further details see following FULL GUIDELINES       \n",
      " \n",
      "This is an uncontrolled copy of this policy. To check if this is a copy of the latest version please view this policy on-line on StaffNet  \n",
      "page 3 : Southend University Hospital NHS Foundation Trust Guidelines for the Assessment and Treatment of Patient with Acute Hot Joint / CG013 / v4 \n",
      "Page 3 of 6 Full Guidelines for the Assessment and Treatment of Patient with Acute Hot Joint \n",
      " History – inquire about:    Recent onset or increase in joint pain or swelling – usually within previous two weeks   Systemic symptoms (Fever, malaise, chills, sweats)   Pre-disposing conditions    Diabetes   Cancer   Pre-existing cardiac disease (Bacterial endocarditis)   Pre-existing joint disease: e.g. RA, OA, Prosthetic joint, gout   Immunosuppressives: Steroids/ /Chemotherapy/Anti TNF agents etc   Penetrating Trauma   Recent invasive procedures (Arthroscopy, Intra articu lar injections)   Other joint involvement (sepsis less likely)   Recent travel / Sexual history (Gonococcal, reactive arthritis)   Recent infection (Antibiotic therapy – partially treated sepsis)   Differential diagnosis – from history    Drugs (Diuretics, ciclosporin- Gout)   Past H/O similar illness (crystal arthropathy)   Bleeding disorder: Warfarin, other anticoagulants, Haemophilia   Trauma (ligament tear, fracture)   Systemic rheumatic diseases   Examination – document especially    Joints involved - large lower limb joints, ie hip, knee, more commonly infected than upper limb joints or big toe joints or other small joints. 80% sepsis is monoarticular - polyarticular involvement – sepsis is less likely. If typical history and 1st MTPJ involvement gout is the most likely diagnosis, unless there are strong grounds to suggest sepsis  Effusion, warmth, erythema and restriction of movement – if all 4 present, sepsis more likely   Fever (absent in 50% cases, may be present with acute crystal arthritis)   Pulse, BP, JVP, signs of Septic shock   Cardiac murmurs   Urinalysis(WBC, Nitrites) infection, haematuria in endocarditis   Possible Site of bacterial entry eg Skin Rashes/ leg ulcers/ ulcerating tophi/ Surgical scars  \n",
      " \n",
      "This is an uncontrolled copy of this policy. To check if this is a copy of the latest version please view this policy on-line on StaffNet  \n",
      "page 4 : Southend University Hospital NHS Foundation Trust Guidelines for the Assessment and Treatment of Patient with Acute Hot Joint / CG013 / v4 \n",
      "Page 4 of 6  Other joint abnormalities   Investigations – immediate - Before antibiotics - always:    Blood cultures (at least two sets)   Aspirate the joint (unless 1st MTPJ involvement AND no reason to suspect sepsis, as above)  (Warning: Prosthetic joints – this must be done by orthopaedic surgeon in theatre)   Appearance of fluid:    Transparent: Sepsis very unlikely  \n",
      " Translucent: Inflammatory arthritis, partially treated sepsis  \n",
      " Opaque/ Frank Pus: Sepsis most likely, gout possible  \n",
      " Blood: Trauma / Haemophilia / Warfarin / other anticoagulant \n",
      "  Ensure rapid transport to lab: phone lab for urgent Gram stain and cell count, culture and sensitivities.   Inform on-call microbiology technician out of hours    Synovial fluid White Cell Count >50,000/microlitre (>95% neutrophils) strongly suggests infection.  Also request Polarising microscopy for crystals (but this is non-urgent - send fluid and form to cytopathology)    Culture other possible sources of infection (urine, stool, sputum, swabs etc)   FBC, Biochemistry (inc serum urate, but non-urgent) CRP   Investigations – consider also:    Chest X-Ray   X-Ray joint – as baseline for later change (unlikely to help initial diagnosis). This should not delay aspiration (unless fracture suspected).  Ultrasound scan of the joint – esp to aspirate hip or shoulder   Consider MRI if also suspect osteomyelitis – seek expert advice   ECHO/TOE if known valve disease, prosthetic valve, cardiac murmurs, haematuria on urinalysis   Do not delay action or antibiotics or further aspiration, waiting for the results!   Sepsis confirmed or strongly suspected – immediate treatment    Admit   Immediate assessment for sepsis as per Trust policy +/- immediate  treatment  as outlined in Sepsis screening tool (SOU4378 / SOU4477)  NBM until surgical review. If NBM, ensure iv fluids  IV Antibiotics   1st choice- Flucloxacillin IV 1g qds with Fusidic acid 500 tds PO.  \n",
      " \n",
      "This is an uncontrolled copy of this policy. To check if this is a copy of the latest version please view this policy on-line on StaffNet  \n",
      "page 5 : Southend University Hospital NHS Foundation Trust Guidelines for the Assessment and Treatment of Patient with Acute Hot Joint / CG013 / v4 \n",
      "Page 5 of 6  2nd choice (penicillin allergy)- Rifampicin 600mg bd IV (or Vancomycin 1g od or bd IV) plus Fusidic acid 500mg tds PO   Seek Expert help:    Discuss with Microbiologist   Immediate discussion with orthopaedics. This is mandatory when infection in prosthetic joint suspected Sepsis confirmed (culture positive) – subsequent treatment   Requires joint washout unless good reason to avoid this  Rest/Joint support/ ROM exercises   Mobilisation and weight bearing once all signs of inflammation have settled.   Review diagnosis and treatment at 48 hours (as soon as microbiology results are available)   Continue appropriate antibiotics (At least 1 week IV + 4 weeks oral )   Liaise with Microbiologist and  consider liaison with Dr Day (Consultant Physician in Infectious Diseases) if available  Follow local antibiotic guidelines   Assess clinical progress, and check serial WBC and CRP Joint Lavage – orthopaedic guidelines   Lavage should be performed as soon as is practically possible  Early washout required for source control in sepsis   A synovial biopsy should be considered as part of the procedure and the specimen should be sent for histology as well as culture and sensitivity.   Repeat lavage should be considered in all cases with delayed and incomplete response to antibiotic therapy.  Culture negative, infection still likely on clinical grounds   Review diagnosis   Consider TB & other opportunistic infections   Liaise with Microbiologist and if available, Dr Day (Consultant Physician in Infectious Diseases)  Sepsis excluded    Consider rheumatological opinion   If on immunosuppressive treatment, inform parent speciality responsible for this   MONITORING / CLINICAL AUDIT   AUDIT STANDARDS:    Patient with acute atraumatic monoarthritis should have joint aspiration, • Patient with acute monoarthritis should have blood cultures taken before commencing antibiotics.   All patients with suspected septic arthritis should be referred for immediate orthopaedic opinion regarding aspiration  All patients with suspected infected prosthetic joint must be referred for orthopaedic opinion immediately   Initial Antibiotic choice should follow local guidelines  \n",
      " \n",
      "This is an uncontrolled copy of this policy. To check if this is a copy of the latest version please view this policy on-line on StaffNet  \n",
      "page 6 : Southend University Hospital NHS Foundation Trust Guidelines for the Assessment and Treatment of Patient with Acute Hot Joint / CG013 / v4 \n",
      "Page 6 of 6  Guideline to be reviewed in 5 years, or earlier if national  guidelines change  Please remember    Sepsis and crystals can co-exist   Steroids/ Immunosuppressives/Biologics can mask symptoms.   Steroids and previous antibiotic therapy can reduce the yield of synovial fluid cultures/ reduce the cell counts.   Always look for a source of infection (organism may give a clue to the primary source of infection)   Polyarticular sepsis can occur in elderly/immunosuppressed.   Maintain high index of suspicion – Gram stain is negative in 30 – 50% cases; white cell count is likely to be the most helpful  Think – could there be an underlying predisposing systemic illness?   \n",
      "Associated Documents \n",
      " Sepsis screening tool (SOU4378 / SOU4477)  \n",
      "References    BSR & BHPR, BOA, RCGP and BSAC guidelines for management of the hot  swollen joint in adults. Coakley, G et al. Rheumatology 2006;45:1039-41   http://www.rheumatology.org.uk/guidelines/guidelines_other/interactive_hotswollen  \n",
      "    \n",
      " \n",
      "This is an uncontrolled copy of this policy. To check if this is a copy of the latest version please view this policy on-line on StaffNet  \n"
     ]
    }
   ],
   "source": [
    "import PyPDF2\n",
    "with open(r\"C:\\Users\\Dell\\Desktop\\Panda\\data.pdf\",'rb')as file:\n",
    "    pdf=PyPDF2.PdfFileReader(file)\n",
    "    num_page=pdf.numPages\n",
    "    for x in range(num_page):\n",
    "        page=pdf.getPage(x)\n",
    "        text=page.extractText()\n",
    "        print(f\"page {x + 1} : {text}\")\n",
    "    "
   ]
  },
  {
   "cell_type": "code",
   "execution_count": 28,
   "id": "db26d4c6",
   "metadata": {},
   "outputs": [
    {
     "data": {
      "text/plain": [
       "'Above code will  remove #hashtag from this line'"
      ]
     },
     "execution_count": 28,
     "metadata": {},
     "output_type": "execute_result"
    }
   ],
   "source": [
    "import re\n",
    "\n",
    "def regex_remove(input_txt,regex):\n",
    "    url=re.finditer(regex,input_txt) \n",
    "    for i in url:\n",
    "        updated_text=re.sub(i.group().strip(),'',input_txt)\n",
    "    return updated_text\n",
    "regex=\"#[\\w+]*\" \n",
    "\n",
    "regex_remove(\"Above code will #sbb988 remove #hashtag from this line\",regex)"
   ]
  },
  {
   "cell_type": "code",
   "execution_count": 35,
   "id": "cb49a20a",
   "metadata": {},
   "outputs": [
    {
     "name": "stdout",
     "output_type": "stream",
     "text": [
      "Above code will  remove  from this  line\n"
     ]
    }
   ],
   "source": [
    "import re\n",
    "\n",
    "def regex_remove(input_txt, regex):\n",
    "    urls = re.finditer(regex, input_txt)\n",
    "    updated_text = input_txt  # Initialize with the original text\n",
    "\n",
    "    for i in urls:\n",
    "        updated_text = re.sub(i.group().strip(), '', updated_text)\n",
    "\n",
    "    return updated_text\n",
    "\n",
    "regex = r\"#\\w+\"\n",
    "result_text = regex_remove(\"Above code will #sbb988 remove #hashtag from this #ssjj line\", regex)\n",
    "print(result_text)\n"
   ]
  },
  {
   "cell_type": "code",
   "execution_count": 2,
   "id": "19fd061c",
   "metadata": {},
   "outputs": [
    {
     "ename": "OSError",
     "evalue": "[E050] Can't find model 'en_core_web_sm'. It doesn't seem to be a Python package or a valid path to a data directory.",
     "output_type": "error",
     "traceback": [
      "\u001b[1;31m---------------------------------------------------------------------------\u001b[0m",
      "\u001b[1;31mOSError\u001b[0m                                   Traceback (most recent call last)",
      "Cell \u001b[1;32mIn[2], line 5\u001b[0m\n\u001b[0;32m      1\u001b[0m \u001b[38;5;28;01mimport\u001b[39;00m \u001b[38;5;21;01mspacy\u001b[39;00m\n\u001b[0;32m      3\u001b[0m \u001b[38;5;66;03m# load english language model\u001b[39;00m\n\u001b[1;32m----> 5\u001b[0m nlp \u001b[38;5;241m=\u001b[39m spacy\u001b[38;5;241m.\u001b[39mload(\u001b[38;5;124m'\u001b[39m\u001b[38;5;124men_core_web_sm\u001b[39m\u001b[38;5;124m'\u001b[39m,disable\u001b[38;5;241m=\u001b[39m[\u001b[38;5;124m'\u001b[39m\u001b[38;5;124mner\u001b[39m\u001b[38;5;124m'\u001b[39m,\u001b[38;5;124m'\u001b[39m\u001b[38;5;124mtextcat\u001b[39m\u001b[38;5;124m'\u001b[39m])\n\u001b[0;32m      7\u001b[0m text \u001b[38;5;241m=\u001b[39m \u001b[38;5;124m\"\u001b[39m\u001b[38;5;124mThis is a sample sentence.\u001b[39m\u001b[38;5;124m\"\u001b[39m\n\u001b[0;32m      9\u001b[0m \u001b[38;5;66;03m# create spacy \u001b[39;00m\n",
      "File \u001b[1;32mD:\\anaconda\\Lib\\site-packages\\spacy\\__init__.py:54\u001b[0m, in \u001b[0;36mload\u001b[1;34m(name, vocab, disable, enable, exclude, config)\u001b[0m\n\u001b[0;32m     30\u001b[0m \u001b[38;5;28;01mdef\u001b[39;00m \u001b[38;5;21mload\u001b[39m(\n\u001b[0;32m     31\u001b[0m     name: Union[\u001b[38;5;28mstr\u001b[39m, Path],\n\u001b[0;32m     32\u001b[0m     \u001b[38;5;241m*\u001b[39m,\n\u001b[1;32m   (...)\u001b[0m\n\u001b[0;32m     37\u001b[0m     config: Union[Dict[\u001b[38;5;28mstr\u001b[39m, Any], Config] \u001b[38;5;241m=\u001b[39m util\u001b[38;5;241m.\u001b[39mSimpleFrozenDict(),\n\u001b[0;32m     38\u001b[0m ) \u001b[38;5;241m-\u001b[39m\u001b[38;5;241m>\u001b[39m Language:\n\u001b[0;32m     39\u001b[0m \u001b[38;5;250m    \u001b[39m\u001b[38;5;124;03m\"\"\"Load a spaCy model from an installed package or a local path.\u001b[39;00m\n\u001b[0;32m     40\u001b[0m \n\u001b[0;32m     41\u001b[0m \u001b[38;5;124;03m    name (str): Package name or model path.\u001b[39;00m\n\u001b[1;32m   (...)\u001b[0m\n\u001b[0;32m     52\u001b[0m \u001b[38;5;124;03m    RETURNS (Language): The loaded nlp object.\u001b[39;00m\n\u001b[0;32m     53\u001b[0m \u001b[38;5;124;03m    \"\"\"\u001b[39;00m\n\u001b[1;32m---> 54\u001b[0m     \u001b[38;5;28;01mreturn\u001b[39;00m util\u001b[38;5;241m.\u001b[39mload_model(\n\u001b[0;32m     55\u001b[0m         name,\n\u001b[0;32m     56\u001b[0m         vocab\u001b[38;5;241m=\u001b[39mvocab,\n\u001b[0;32m     57\u001b[0m         disable\u001b[38;5;241m=\u001b[39mdisable,\n\u001b[0;32m     58\u001b[0m         enable\u001b[38;5;241m=\u001b[39menable,\n\u001b[0;32m     59\u001b[0m         exclude\u001b[38;5;241m=\u001b[39mexclude,\n\u001b[0;32m     60\u001b[0m         config\u001b[38;5;241m=\u001b[39mconfig,\n\u001b[0;32m     61\u001b[0m     )\n",
      "File \u001b[1;32mD:\\anaconda\\Lib\\site-packages\\spacy\\util.py:449\u001b[0m, in \u001b[0;36mload_model\u001b[1;34m(name, vocab, disable, enable, exclude, config)\u001b[0m\n\u001b[0;32m    447\u001b[0m \u001b[38;5;28;01mif\u001b[39;00m name \u001b[38;5;129;01min\u001b[39;00m OLD_MODEL_SHORTCUTS:\n\u001b[0;32m    448\u001b[0m     \u001b[38;5;28;01mraise\u001b[39;00m \u001b[38;5;167;01mIOError\u001b[39;00m(Errors\u001b[38;5;241m.\u001b[39mE941\u001b[38;5;241m.\u001b[39mformat(name\u001b[38;5;241m=\u001b[39mname, full\u001b[38;5;241m=\u001b[39mOLD_MODEL_SHORTCUTS[name]))  \u001b[38;5;66;03m# type: ignore[index]\u001b[39;00m\n\u001b[1;32m--> 449\u001b[0m \u001b[38;5;28;01mraise\u001b[39;00m \u001b[38;5;167;01mIOError\u001b[39;00m(Errors\u001b[38;5;241m.\u001b[39mE050\u001b[38;5;241m.\u001b[39mformat(name\u001b[38;5;241m=\u001b[39mname))\n",
      "\u001b[1;31mOSError\u001b[0m: [E050] Can't find model 'en_core_web_sm'. It doesn't seem to be a Python package or a valid path to a data directory."
     ]
    }
   ],
   "source": [
    "import spacy\n",
    "\n",
    "# load english language model\n",
    "\n",
    "nlp = spacy.load('en_core_web_sm',disable=['ner','textcat'])\n",
    "\n",
    "text = \"This is a sample sentence.\"\n",
    "\n",
    "# create spacy \n",
    "\n",
    "doc = nlp(text)\n",
    "\n",
    "for token in doc:\n",
    "    print(token.text,'->',token.pos_)"
   ]
  },
  {
   "cell_type": "code",
   "execution_count": null,
   "id": "593ada13",
   "metadata": {},
   "outputs": [],
   "source": []
  }
 ],
 "metadata": {
  "kernelspec": {
   "display_name": "Python 3 (ipykernel)",
   "language": "python",
   "name": "python3"
  },
  "language_info": {
   "codemirror_mode": {
    "name": "ipython",
    "version": 3
   },
   "file_extension": ".py",
   "mimetype": "text/x-python",
   "name": "python",
   "nbconvert_exporter": "python",
   "pygments_lexer": "ipython3",
   "version": "3.11.3"
  }
 },
 "nbformat": 4,
 "nbformat_minor": 5
}
