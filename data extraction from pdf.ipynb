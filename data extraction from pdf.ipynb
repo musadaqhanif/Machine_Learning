{
 "cells": [
  {
   "cell_type": "code",
   "execution_count": 23,
   "id": "6c5b4fc4",
   "metadata": {},
   "outputs": [],
   "source": [
    "import PyPDF2\n",
    "import os\n",
    "import re\n",
    "import pandas as pd"
   ]
  },
  {
   "cell_type": "code",
   "execution_count": 24,
   "id": "d80a9267",
   "metadata": {},
   "outputs": [],
   "source": [
    "def extract_info(pdf_file_path):\n",
    "    data={\n",
    "        \"Document title\": \"nan\",\n",
    "        \"Version number\": \"nan\",\n",
    "        \"Reference/Register number\": \"nan\",\n",
    "        \"Document Type\": \"nan\",\n",
    "        \"Issue Date\": \"nan\",\n",
    "        \"Review Date\": \"nan\",\n",
    "        \"Author\": \"nan\"\n",
    "    }\n",
    "    with open(pdf_file_path,\"rb\") as f:\n",
    "        file_reader=PyPDF2.PdfFileReader(f)\n",
    "        text=\"\"\n",
    "        for x in range(file_reader.numPages):\n",
    "            text+=file_reader.getPage(x).extract_text()\n",
    "        data[\"Document title\"] = file_reader.getDocumentInfo().title\n",
    "        data[\"Author\"] = file_reader.getDocumentInfo().author\n",
    "        #data[\"Issue Date\"] = file_reader.getDocumentInfo().creation_date\n",
    "        data[\"Issue Date\"]=re.search(r\"Issue Date:\\s*(.*)\",text,re.IGNORECASE)\n",
    "        data[\"Reference/Register number\"]=re.search(r\"Reference/Register No:\\s*(.*)\",text,re.IGNORECASE)\n",
    "        data[\"Version number\"]=re.search(r\"Version  No:\\s*(.*)\",text,re.IGNORECASE)\n",
    "        data[\"Document Type\"]=re.search(r\"Document Type:\\s*(.*)\",text,re.IGNORECASE)\n",
    "        data[\"Review Date\"]=re.search(r\"Review Date:\\s*(.*)\",text,re.IGNORECASE)                      \n",
    "    for y in data:\n",
    "        if data[y] is not None and isinstance(data[y], re.Match):\n",
    "            data[y] = data[y].group(1).strip()\n",
    "        else:\n",
    "            data[y] = \"nan\"\n",
    "\n",
    "    return data      \n",
    "def data_processing(file_path):    \n",
    "    pdf_files = [file for file in os.listdir(file_path) if file.endswith(\".pdf\")]\n",
    "    all_data = []\n",
    "    for file in pdf_files:\n",
    "        files_path = os.path.join(file_path, file)\n",
    "        data = extract_info(files_path)  \n",
    "        all_data.append(data)\n",
    "    return all_data\n",
    "\n",
    "def csv_file(data, outputfile):\n",
    "    df=pd.DataFrame(data)\n",
    "    df.to_csv(outputfile,index=False)\n",
    "file_directory = r\"C:\\Users\\Dell\\Desktop\\Panda\"\n",
    "outputfile = \"new_data_file.csv\"\n",
    "all_data = data_processing(file_directory)\n",
    "csv_file(all_data, outputfile)\n"
   ]
  }
 ],
 "metadata": {
  "kernelspec": {
   "display_name": "Python 3 (ipykernel)",
   "language": "python",
   "name": "python3"
  },
  "language_info": {
   "codemirror_mode": {
    "name": "ipython",
    "version": 3
   },
   "file_extension": ".py",
   "mimetype": "text/x-python",
   "name": "python",
   "nbconvert_exporter": "python",
   "pygments_lexer": "ipython3",
   "version": "3.11.3"
  }
 },
 "nbformat": 4,
 "nbformat_minor": 5
}
